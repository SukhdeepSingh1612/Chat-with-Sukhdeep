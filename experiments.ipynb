{
 "cells": [
  {
   "cell_type": "code",
   "execution_count": 1,
   "metadata": {},
   "outputs": [],
   "source": [
    "## Career Agent Experiments\n",
    "\n",
    "import streamlit as st\n",
    "import os\n",
    "from langchain_groq import ChatGroq\n",
    "from langchain.embeddings import OpenAIEmbeddings\n",
    "from langchain_community.embeddings import OllamaEmbeddings\n",
    "from langchain.text_splitter import RecursiveCharacterTextSplitter\n",
    "from langchain.chains.combine_documents import create_stuff_documents_chain\n",
    "from langchain_core.prompts import ChatPromptTemplate\n",
    "from langchain.chains import create_retrieval_chain\n",
    "from langchain.vectorstores import Chroma\n",
    "from langchain.text_splitter import TokenTextSplitter\n",
    "from langchain_community.vectorstores import FAISS\n",
    "from langchain_community.document_loaders import PyPDFDirectoryLoader"
   ]
  },
  {
   "cell_type": "code",
   "execution_count": 2,
   "metadata": {},
   "outputs": [
    {
     "name": "stderr",
     "output_type": "stream",
     "text": [
      "/Users/sukhdeepnarulasingh/AI-ML/Projects/Career-Agent/venv-career/lib/python3.12/site-packages/tqdm/auto.py:21: TqdmWarning: IProgress not found. Please update jupyter and ipywidgets. See https://ipywidgets.readthedocs.io/en/stable/user_install.html\n",
      "  from .autonotebook import tqdm as notebook_tqdm\n"
     ]
    }
   ],
   "source": [
    "from langchain.vectorstores.cassandra import Cassandra\n",
    "from langchain.indexes.vectorstore import VectorStoreIndexWrapper\n",
    "from langchain.llms import OpenAI\n",
    "from langchain.embeddings import OpenAIEmbeddings\n",
    "\n",
    "## Support for dataset retrieval with Huggingface\n",
    "from datasets import load_dataset\n",
    "\n",
    "import cassio"
   ]
  },
  {
   "cell_type": "code",
   "execution_count": 3,
   "metadata": {},
   "outputs": [],
   "source": [
    "from PyPDF2 import PdfReader\n",
    "import os\n",
    "from dotenv import load_dotenv\n",
    "load_dotenv()\n",
    "\n",
    "OPENAI_API_KEY = os.getenv(\"OPENAI_API_KEY\")"
   ]
  },
  {
   "cell_type": "code",
   "execution_count": 4,
   "metadata": {},
   "outputs": [],
   "source": [
    "pdfreader = PdfReader(\"source/linkedin.pdf\")"
   ]
  },
  {
   "cell_type": "code",
   "execution_count": 5,
   "metadata": {},
   "outputs": [],
   "source": [
    "from typing_extensions import Concatenate\n",
    "\n",
    "raw_text = \"\"\n",
    "for i, page in enumerate(pdfreader.pages):\n",
    "    text = page.extract_text()\n",
    "    if text:\n",
    "        raw_text += text\n",
    "    "
   ]
  },
  {
   "cell_type": "code",
   "execution_count": 6,
   "metadata": {},
   "outputs": [
    {
     "data": {
      "text/plain": [
       "4811"
      ]
     },
     "execution_count": 6,
     "metadata": {},
     "output_type": "execute_result"
    }
   ],
   "source": [
    "raw_text.__len__()"
   ]
  },
  {
   "cell_type": "code",
   "execution_count": 7,
   "metadata": {},
   "outputs": [],
   "source": [
    "ASTRA_DB_APPLICATION_TOKEN = os.getenv(\"ASTRA_DB_APPLICATION_TOKEN\")\n",
    "ASTRA_DB_ID = os.getenv(\"ASTRA_DB_ID\")"
   ]
  },
  {
   "cell_type": "code",
   "execution_count": 8,
   "metadata": {},
   "outputs": [
    {
     "data": {
      "text/plain": [
       "'82022842-6e25-40c9-85cf-1378a4a7f65a'"
      ]
     },
     "execution_count": 8,
     "metadata": {},
     "output_type": "execute_result"
    }
   ],
   "source": [
    "ASTRA_DB_ID"
   ]
  },
  {
   "cell_type": "code",
   "execution_count": 9,
   "metadata": {},
   "outputs": [],
   "source": [
    "import cassio\n",
    "cassio.init(token=ASTRA_DB_APPLICATION_TOKEN,database_id=ASTRA_DB_ID)"
   ]
  },
  {
   "cell_type": "code",
   "execution_count": 10,
   "metadata": {},
   "outputs": [
    {
     "name": "stderr",
     "output_type": "stream",
     "text": [
      "/var/folders/_t/v38w57x92v12tfgjb78y_mlh0000gn/T/ipykernel_60498/4223115160.py:1: LangChainDeprecationWarning: The class `OpenAI` was deprecated in LangChain 0.0.10 and will be removed in 1.0. An updated version of the class exists in the :class:`~langchain-openai package and should be used instead. To use it run `pip install -U :class:`~langchain-openai` and import as `from :class:`~langchain_openai import OpenAI``.\n",
      "  llm = OpenAI(openai_api_key=OPENAI_API_KEY)\n",
      "/var/folders/_t/v38w57x92v12tfgjb78y_mlh0000gn/T/ipykernel_60498/4223115160.py:2: LangChainDeprecationWarning: The class `OpenAIEmbeddings` was deprecated in LangChain 0.0.9 and will be removed in 1.0. An updated version of the class exists in the :class:`~langchain-openai package and should be used instead. To use it run `pip install -U :class:`~langchain-openai` and import as `from :class:`~langchain_openai import OpenAIEmbeddings``.\n",
      "  embeddings = OpenAIEmbeddings(openai_api_key=OPENAI_API_KEY)\n"
     ]
    }
   ],
   "source": [
    "llm = OpenAI(openai_api_key=OPENAI_API_KEY)\n",
    "embeddings = OpenAIEmbeddings(openai_api_key=OPENAI_API_KEY)\n",
    "## Now create langchain vectorstore\n",
    "\n",
    "astra_vector_store = Cassandra(\n",
    "    embedding= embeddings,\n",
    "    table_name=\"experiments\",\n",
    "    session= None,\n",
    "    keyspace=None\n",
    ")\n"
   ]
  },
  {
   "cell_type": "code",
   "execution_count": 11,
   "metadata": {},
   "outputs": [
    {
     "data": {
      "text/plain": [
       "[\"Contact\\nsukhdeepnarulasingh@gmail.c\\nom\\nwww.linkedin.com/in/\\nsukhdeepsingh1612  (LinkedIn)\\nTop Skills\\nSwift (Programming Language)\\nJava Swing\\nSoftware Design\\nCertifications\\nInitiating and Planning Projects Sukhdeep Singh\\nCS Grad @ UBC | Actively looking for Software Engineering Roles\\nVancouver, British Columbia, Canada\\nSummary\\n\\u200d Recent CS Graduate | Passionate about Tech & Innovation | Open\\nto Exciting Opportunities\\nHello, and welcome to my LinkedIn profile! I'm a recent Computer\\nScience graduate from the University of British Columbia, driven by a\\nrelentless curiosity and a passion for technology. \\nThroughout my academic journey, I've had the opportunity to dive\\ndeep into the world of algorithms, data structures, and software\\ndevelopment. My coursework, projects, and internships have\\nequipped me with a strong foundation in computer science and the\\nskills required to tackle complex technical challenges.\\nAs I embark on the exciting journey of transitioning from academia\",\n",
       " \"equipped me with a strong foundation in computer science and the\\nskills required to tackle complex technical challenges.\\nAs I embark on the exciting journey of transitioning from academia\\nto industry, I'm eager to bring my fresh perspective, enthusiasm, and\\ndetermination to a dynamic tech team. I am particularly interested\\nin roles related to software development, data science, artificial\\nintelligence, and machine learning.\\nI am actively seeking opportunities where I can contribute my\\nproblem-solving mindset and embrace innovation in a collaborative\\nenvironment. I value continuous learning, teamwork, and staying on\\nthe cutting edge of technological advancements.\\nLet's connect and explore how we can work together to create\\nmeaningful and impactful solutions. Feel free to reach out via\\nmessages or at sukhdeepsingh1612@gmail.com. I'm always open to\\nnetworking, discussing opportunities, and sharing insights with fellow\\ntech enthusiasts and professionals.\",\n",
       " \"messages or at sukhdeepsingh1612@gmail.com. I'm always open to\\nnetworking, discussing opportunities, and sharing insights with fellow\\ntech enthusiasts and professionals.\\nThank you for visiting my profile, and I look forward to connecting\\nwith you!\\n\\xa0 Page 1 of 3\\xa0 \\xa0\\n#ComputerScience #TechEnthusiast #SoftwareDevelopment\\n#DataScience #AI #MachineLearning #UBCAlumni\\n#OpenToOpportunities\\nExperience\\nWefley Tech Lab\\nFull Stack Developer\\nSeptember 2022\\xa0-\\xa0August 2023\\xa0 (1 year)\\nVancouver, British Columbia, Canada\\n●Developed multiple full-stack SaaS applications including E-Commerce\\nstores, CRM, LMS and IoT Systems for 10+ clients, integrating Angular, React,\\nNodeJS, and Python to meet diverse project requirements\\n● Proficiently utilized modern tools (HTML, CSS, JavaScript libraries) to create\\nresponsive and user-friendly interfaces, enhancing overall user experience and\\nleading to tangible business impact\\n● Performed API development and delivery of scalable web applications in a\",\n",
       " 'responsive and user-friendly interfaces, enhancing overall user experience and\\nleading to tangible business impact\\n● Performed API development and delivery of scalable web applications in a\\ncontinuous deployment environment\\nKiwiTech\\nJunior Software Developer\\nMay 2022\\xa0-\\xa0September 2022\\xa0 (5 months)\\nNoida, Uttar Pradesh, India\\n● Worked on a custom software development company that provides end-to-\\nend technology services to clients all over the world.\\n● Developed efficient and scalable code using React.js, Node.js, and\\nExpress.js for the front-end and back-end development of web applications.\\n● Collaborated with a team of developers to ensure timely delivery and\\nadherence to project requirements. Utilized Git for version control and Agile\\ndevelopment methodologies to deliver the project on schedule.\\nSkechers\\nSales Associate\\nSeptember 2021\\xa0-\\xa0December 2021\\xa0 (4 months)\\nVancouver, British Columbia, Canada\\n●Provided exceptional customer service, achieving or surpassing sales targets',\n",
       " \"Skechers\\nSales Associate\\nSeptember 2021\\xa0-\\xa0December 2021\\xa0 (4 months)\\nVancouver, British Columbia, Canada\\n●Provided exceptional customer service, achieving or surpassing sales targets\\nby assisting customers in finding the perfect footwear and recommending\\nproducts based on their preferences and needs.\\n\\xa0 Page 2 of 3\\xa0 \\xa0\\n●Demonstrated in-depth knowledge of Skechers' product line, effectively\\ncommunicating the features and benefits of various shoe styles to enhance the\\ncustomer shopping experience.\\n●Worked as part of a collaborative team to maintain an organized store\\nlayout, assist with inventory management, and resolve customer concerns in a\\nprofessional and positive manner.\\nWalmart Canada\\nFulfilment Associate\\nSeptember 2019\\xa0-\\xa0December 2019\\xa0 (4 months)\\nKelowna, British Columbia, Canada\\n●Achieved consistent on-time order fulfilment, exceeding performance targets\\nby accurately picking and packing items to ensure timely customer delivery.\",\n",
       " \"Kelowna, British Columbia, Canada\\n●Achieved consistent on-time order fulfilment, exceeding performance targets\\nby accurately picking and packing items to ensure timely customer delivery.\\n●Collaborated effectively with a diverse team to streamline fulfilment\\nprocesses, resulting in improved efficiency and a reduction in errors.\\n●Prioritized safety protocols and actively contributed to a secure working\\nenvironment while also collecting and utilizing customer feedback to enhance\\nthe overall shopping experience.\\nEducation\\nThe University of British Columbia\\nBachelor of Science - BS,\\xa0Computer Science \\xa0·\\xa0(September 2019\\xa0-\\xa0April 2023)\\nTrent University\\nBachelor's of Computer Science,\\xa0Computer Science \\xa0·\\xa0(2018\\xa0-\\xa02019)\\nVivek High School\\nHigh School Diploma,\\xa0Science Stream \\xa0·\\xa0(2016\\xa0-\\xa02018)\\nVivek High School\\nHigh School Diploma\\xa0 \\xa0·\\xa0(2003\\xa0-\\xa02018)\\n\\xa0 Page 3 of 3\"]"
      ]
     },
     "execution_count": 11,
     "metadata": {},
     "output_type": "execute_result"
    }
   ],
   "source": [
    "from langchain.text_splitter import RecursiveCharacterTextSplitter\n",
    "\n",
    "splitter = RecursiveCharacterTextSplitter(\n",
    "    separators=[\"\\n\\n\", \"\\n\", \".\", \"?\", \"!\"],\n",
    "    chunk_size=1_000,        # characters\n",
    "    chunk_overlap=200,       # characters overlap\n",
    ")\n",
    "texts = splitter.split_text(raw_text)\n",
    "texts"
   ]
  },
  {
   "cell_type": "code",
   "execution_count": 12,
   "metadata": {},
   "outputs": [
    {
     "name": "stdout",
     "output_type": "stream",
     "text": [
      "Inserted 6 headlines.\n"
     ]
    }
   ],
   "source": [
    "astra_vector_store.add_texts(texts)\n",
    "\n",
    "print(\"Inserted %i headlines.\" % len(texts))\n",
    "\n",
    "astra_vector_index = VectorStoreIndexWrapper(vectorstore=astra_vector_store)"
   ]
  },
  {
   "cell_type": "code",
   "execution_count": 13,
   "metadata": {},
   "outputs": [
    {
     "data": {
      "text/plain": [
       "[Document(id='2641b34a50374bc7b385d7142782747c', metadata={}, page_content=\"Kelowna, British Columbia, Canada\\n●Achieved consistent on-time order fulfilment, exceeding performance targets\\nby accurately picking and packing items to ensure timely customer delivery.\\n●Collaborated effectively with a diverse team to streamline fulfilment\\nprocesses, resulting in improved efficiency and a reduction in errors.\\n●Prioritized safety protocols and actively contributed to a secure working\\nenvironment while also collecting and utilizing customer feedback to enhance\\nthe overall shopping experience.\\nEducation\\nThe University of British Columbia\\nBachelor of Science - BS,\\xa0Computer Science \\xa0·\\xa0(September 2019\\xa0-\\xa0April 2023)\\nTrent University\\nBachelor's of Computer Science,\\xa0Computer Science \\xa0·\\xa0(2018\\xa0-\\xa02019)\\nVivek High School\\nHigh School Diploma,\\xa0Science Stream \\xa0·\\xa0(2016\\xa0-\\xa02018)\\nVivek High School\\nHigh School Diploma\\xa0 \\xa0·\\xa0(2003\\xa0-\\xa02018)\\n\\xa0 Page 3 of 3\"),\n",
       " Document(id='c00ca8c5f542482583b83674024a68b6', metadata={}, page_content=\"Skechers\\nSales Associate\\nSeptember 2021\\xa0-\\xa0December 2021\\xa0 (4 months)\\nVancouver, British Columbia, Canada\\n●Provided exceptional customer service, achieving or surpassing sales targets\\nby assisting customers in finding the perfect footwear and recommending\\nproducts based on their preferences and needs.\\n\\xa0 Page 2 of 3\\xa0 \\xa0\\n●Demonstrated in-depth knowledge of Skechers' product line, effectively\\ncommunicating the features and benefits of various shoe styles to enhance the\\ncustomer shopping experience.\\n●Worked as part of a collaborative team to maintain an organized store\\nlayout, assist with inventory management, and resolve customer concerns in a\\nprofessional and positive manner.\\nWalmart Canada\\nFulfilment Associate\\nSeptember 2019\\xa0-\\xa0December 2019\\xa0 (4 months)\\nKelowna, British Columbia, Canada\\n●Achieved consistent on-time order fulfilment, exceeding performance targets\\nby accurately picking and packing items to ensure timely customer delivery.\"),\n",
       " Document(id='d6c1ee8d989a4b75951c316fa76d5686', metadata={}, page_content='responsive and user-friendly interfaces, enhancing overall user experience and\\nleading to tangible business impact\\n● Performed API development and delivery of scalable web applications in a\\ncontinuous deployment environment\\nKiwiTech\\nJunior Software Developer\\nMay 2022\\xa0-\\xa0September 2022\\xa0 (5 months)\\nNoida, Uttar Pradesh, India\\n● Worked on a custom software development company that provides end-to-\\nend technology services to clients all over the world.\\n● Developed efficient and scalable code using React.js, Node.js, and\\nExpress.js for the front-end and back-end development of web applications.\\n● Collaborated with a team of developers to ensure timely delivery and\\nadherence to project requirements. Utilized Git for version control and Agile\\ndevelopment methodologies to deliver the project on schedule.\\nSkechers\\nSales Associate\\nSeptember 2021\\xa0-\\xa0December 2021\\xa0 (4 months)\\nVancouver, British Columbia, Canada\\n●Provided exceptional customer service, achieving or surpassing sales targets'),\n",
       " Document(id='80a96d271a5944cca6b063d14dfc1e38', metadata={}, page_content=\"equipped me with a strong foundation in computer science and the\\nskills required to tackle complex technical challenges.\\nAs I embark on the exciting journey of transitioning from academia\\nto industry, I'm eager to bring my fresh perspective, enthusiasm, and\\ndetermination to a dynamic tech team. I am particularly interested\\nin roles related to software development, data science, artificial\\nintelligence, and machine learning.\\nI am actively seeking opportunities where I can contribute my\\nproblem-solving mindset and embrace innovation in a collaborative\\nenvironment. I value continuous learning, teamwork, and staying on\\nthe cutting edge of technological advancements.\\nLet's connect and explore how we can work together to create\\nmeaningful and impactful solutions. Feel free to reach out via\\nmessages or at sukhdeepsingh1612@gmail.com. I'm always open to\\nnetworking, discussing opportunities, and sharing insights with fellow\\ntech enthusiasts and professionals.\")]"
      ]
     },
     "execution_count": 13,
     "metadata": {},
     "output_type": "execute_result"
    }
   ],
   "source": [
    "retriever = astra_vector_store.as_retriever()\n"
   ]
  },
  {
   "cell_type": "code",
   "execution_count": null,
   "metadata": {},
   "outputs": [],
   "source": []
  }
 ],
 "metadata": {
  "kernelspec": {
   "display_name": "Python 3",
   "language": "python",
   "name": "python3"
  },
  "language_info": {
   "codemirror_mode": {
    "name": "ipython",
    "version": 3
   },
   "file_extension": ".py",
   "mimetype": "text/x-python",
   "name": "python",
   "nbconvert_exporter": "python",
   "pygments_lexer": "ipython3",
   "version": "3.12.11"
  }
 },
 "nbformat": 4,
 "nbformat_minor": 2
}
